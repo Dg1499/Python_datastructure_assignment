{
  "nbformat": 4,
  "nbformat_minor": 0,
  "metadata": {
    "colab": {
      "provenance": []
    },
    "kernelspec": {
      "name": "python3",
      "display_name": "Python 3"
    },
    "language_info": {
      "name": "python"
    }
  },
  "cells": [
    {
      "cell_type": "markdown",
      "source": [
        "## **Q. Discuss string slicing and provide examples.**\n",
        "String slicing in Python allows to extract a portion of a string by specifying a start and end index.\n",
        "string[start:end]: Slices a substring from the given indices.\n",
        "string[start:end:step]"
      ],
      "metadata": {
        "id": "cL5zuCYtFj3W"
      }
    },
    {
      "cell_type": "code",
      "source": [
        "ab=\"My name is Debjit Vijay\"\n",
        "print(ab[0])\n",
        "print(ab[2])\n",
        "print(ab[5])\n",
        "print(len(ab))"
      ],
      "metadata": {
        "colab": {
          "base_uri": "https://localhost:8080/"
        },
        "id": "kwSA2unqELnc",
        "outputId": "a5e5994c-1484-4a6e-9b05-9cb1ea348ecc"
      },
      "execution_count": 3,
      "outputs": [
        {
          "output_type": "stream",
          "name": "stdout",
          "text": [
            "M\n",
            " \n",
            "m\n",
            "23\n"
          ]
        }
      ]
    },
    {
      "cell_type": "code",
      "source": [
        "ab[0:] #starts from 0th index means M and ends at last because it is not mentioned"
      ],
      "metadata": {
        "colab": {
          "base_uri": "https://localhost:8080/",
          "height": 35
        },
        "id": "z5VZwSJ8rOKO",
        "outputId": "0e92e526-258c-4284-e0f9-a5ec5cfa8ebd"
      },
      "execution_count": 2,
      "outputs": [
        {
          "output_type": "execute_result",
          "data": {
            "text/plain": [
              "'My name is Debjit Vijay'"
            ],
            "application/vnd.google.colaboratory.intrinsic+json": {
              "type": "string"
            }
          },
          "metadata": {},
          "execution_count": 2
        }
      ]
    },
    {
      "cell_type": "code",
      "source": [
        "ab[:-1] #ends at -1th index means i but this portion is exclusive so from starts to end will be printed except i"
      ],
      "metadata": {
        "colab": {
          "base_uri": "https://localhost:8080/",
          "height": 35
        },
        "id": "LN3oW7XxrO-1",
        "outputId": "d1736b0b-8395-4bdf-dbb2-4603395ed663"
      },
      "execution_count": 4,
      "outputs": [
        {
          "output_type": "execute_result",
          "data": {
            "text/plain": [
              "'My name is Debjit Vija'"
            ],
            "application/vnd.google.colaboratory.intrinsic+json": {
              "type": "string"
            }
          },
          "metadata": {},
          "execution_count": 4
        }
      ]
    },
    {
      "cell_type": "code",
      "source": [
        "ab[0:23] #same like ab[:-1]"
      ],
      "metadata": {
        "colab": {
          "base_uri": "https://localhost:8080/",
          "height": 35
        },
        "id": "GP6QjEULrPHD",
        "outputId": "f7bad009-401d-4567-ddd3-69d08819c9bc"
      },
      "execution_count": 5,
      "outputs": [
        {
          "output_type": "execute_result",
          "data": {
            "text/plain": [
              "'My name is Debjit Vijay'"
            ],
            "application/vnd.google.colaboratory.intrinsic+json": {
              "type": "string"
            }
          },
          "metadata": {},
          "execution_count": 5
        }
      ]
    },
    {
      "cell_type": "code",
      "source": [
        "ab[5:] #starts from 5th index means m and ends at last because it is not mentioned"
      ],
      "metadata": {
        "colab": {
          "base_uri": "https://localhost:8080/",
          "height": 35
        },
        "id": "NbO8w8YTrPLW",
        "outputId": "8f708348-e8a7-4ada-8abe-30fe1a2c4b5d"
      },
      "execution_count": 6,
      "outputs": [
        {
          "output_type": "execute_result",
          "data": {
            "text/plain": [
              "'me is Debjit Vijay'"
            ],
            "application/vnd.google.colaboratory.intrinsic+json": {
              "type": "string"
            }
          },
          "metadata": {},
          "execution_count": 6
        }
      ]
    },
    {
      "cell_type": "code",
      "source": [
        "ab[:-4] #ends at -4th index means o but this portion is exclusive so from starts to h will be printed except o"
      ],
      "metadata": {
        "colab": {
          "base_uri": "https://localhost:8080/",
          "height": 35
        },
        "id": "EEK-bFuRrPOW",
        "outputId": "be7ce0be-c904-4616-9208-e664d5b5c6f9"
      },
      "execution_count": 7,
      "outputs": [
        {
          "output_type": "execute_result",
          "data": {
            "text/plain": [
              "'My name is Debjit V'"
            ],
            "application/vnd.google.colaboratory.intrinsic+json": {
              "type": "string"
            }
          },
          "metadata": {},
          "execution_count": 7
        }
      ]
    },
    {
      "cell_type": "code",
      "source": [
        "ab[-4:]  #starts at -4th index and ends at i as last is not mentioned"
      ],
      "metadata": {
        "colab": {
          "base_uri": "https://localhost:8080/",
          "height": 35
        },
        "id": "R8shUGdIrPRN",
        "outputId": "f208ebc1-87b0-44fc-9510-eed1369ba9db"
      },
      "execution_count": 8,
      "outputs": [
        {
          "output_type": "execute_result",
          "data": {
            "text/plain": [
              "'ijay'"
            ],
            "application/vnd.google.colaboratory.intrinsic+json": {
              "type": "string"
            }
          },
          "metadata": {},
          "execution_count": 8
        }
      ]
    },
    {
      "cell_type": "code",
      "source": [
        "ab[:5]  #ends at 5th index but not inciuded"
      ],
      "metadata": {
        "colab": {
          "base_uri": "https://localhost:8080/",
          "height": 35
        },
        "id": "qIXaL56ZrPUO",
        "outputId": "a46e3e33-58e0-43ee-bed5-483088414a48"
      },
      "execution_count": 9,
      "outputs": [
        {
          "output_type": "execute_result",
          "data": {
            "text/plain": [
              "'My na'"
            ],
            "application/vnd.google.colaboratory.intrinsic+json": {
              "type": "string"
            }
          },
          "metadata": {},
          "execution_count": 9
        }
      ]
    },
    {
      "cell_type": "code",
      "source": [
        "ab[::-1]  #reverse the string or print from starts to end with -1 step"
      ],
      "metadata": {
        "colab": {
          "base_uri": "https://localhost:8080/",
          "height": 35
        },
        "id": "Ymm8tTykrPW7",
        "outputId": "6d6e2887-d636-471d-e951-143c5768ff8f"
      },
      "execution_count": 10,
      "outputs": [
        {
          "output_type": "execute_result",
          "data": {
            "text/plain": [
              "'yajiV tijbeD si eman yM'"
            ],
            "application/vnd.google.colaboratory.intrinsic+json": {
              "type": "string"
            }
          },
          "metadata": {},
          "execution_count": 10
        }
      ]
    },
    {
      "cell_type": "code",
      "source": [
        "ab[::-2]"
      ],
      "metadata": {
        "colab": {
          "base_uri": "https://localhost:8080/",
          "height": 35
        },
        "id": "CYGVJqyUrPZu",
        "outputId": "bef0feb8-844c-474d-f19e-81d7943bc8b0"
      },
      "execution_count": 11,
      "outputs": [
        {
          "output_type": "execute_result",
          "data": {
            "text/plain": [
              "'yjVtje iea M'"
            ],
            "application/vnd.google.colaboratory.intrinsic+json": {
              "type": "string"
            }
          },
          "metadata": {},
          "execution_count": 11
        }
      ]
    },
    {
      "cell_type": "code",
      "source": [
        " ab[0:24:1] #same like ab[0:]"
      ],
      "metadata": {
        "colab": {
          "base_uri": "https://localhost:8080/",
          "height": 35
        },
        "id": "xIZyk8r1rPct",
        "outputId": "0f315abd-9e5d-445b-f31d-7337b2b62434"
      },
      "execution_count": 12,
      "outputs": [
        {
          "output_type": "execute_result",
          "data": {
            "text/plain": [
              "'My name is Debjit Vijay'"
            ],
            "application/vnd.google.colaboratory.intrinsic+json": {
              "type": "string"
            }
          },
          "metadata": {},
          "execution_count": 12
        }
      ]
    },
    {
      "cell_type": "code",
      "source": [
        "ab[0:24:2] #prints with 2 step"
      ],
      "metadata": {
        "colab": {
          "base_uri": "https://localhost:8080/",
          "height": 35
        },
        "id": "lwRjWd_UrPfe",
        "outputId": "8fbd04df-5aab-4f03-e9f1-e20e8684e9ba"
      },
      "execution_count": 13,
      "outputs": [
        {
          "output_type": "execute_result",
          "data": {
            "text/plain": [
              "'M aei ejtVjy'"
            ],
            "application/vnd.google.colaboratory.intrinsic+json": {
              "type": "string"
            }
          },
          "metadata": {},
          "execution_count": 13
        }
      ]
    },
    {
      "cell_type": "code",
      "source": [
        "ab[0:24:3] #prints with 3 step"
      ],
      "metadata": {
        "colab": {
          "base_uri": "https://localhost:8080/",
          "height": 35
        },
        "id": "_-9EYflcrPik",
        "outputId": "07e97a69-8d1a-4f76-db66-027bf662fcd7"
      },
      "execution_count": 14,
      "outputs": [
        {
          "output_type": "execute_result",
          "data": {
            "text/plain": [
              "'MneseiVa'"
            ],
            "application/vnd.google.colaboratory.intrinsic+json": {
              "type": "string"
            }
          },
          "metadata": {},
          "execution_count": 14
        }
      ]
    },
    {
      "cell_type": "code",
      "source": [
        "ab[2:8]"
      ],
      "metadata": {
        "colab": {
          "base_uri": "https://localhost:8080/",
          "height": 35
        },
        "id": "YmbIMpQCrPlG",
        "outputId": "1885b5b9-9744-49d2-9b4b-fbe001126e03"
      },
      "execution_count": 15,
      "outputs": [
        {
          "output_type": "execute_result",
          "data": {
            "text/plain": [
              "' name '"
            ],
            "application/vnd.google.colaboratory.intrinsic+json": {
              "type": "string"
            }
          },
          "metadata": {},
          "execution_count": 15
        }
      ]
    },
    {
      "cell_type": "code",
      "source": [
        "ab[-8:-2]"
      ],
      "metadata": {
        "colab": {
          "base_uri": "https://localhost:8080/",
          "height": 35
        },
        "id": "S3pIH-EfrPoE",
        "outputId": "693cc0d2-9096-4985-a49f-0af7d8eaa1ac"
      },
      "execution_count": 16,
      "outputs": [
        {
          "output_type": "execute_result",
          "data": {
            "text/plain": [
              "'it Vij'"
            ],
            "application/vnd.google.colaboratory.intrinsic+json": {
              "type": "string"
            }
          },
          "metadata": {},
          "execution_count": 16
        }
      ]
    },
    {
      "cell_type": "markdown",
      "source": [
        "## **Q. Explain the key features of lists in Python.**\n",
        "\n",
        "1.Lists are oredered collection of data.\n",
        "\n",
        "2.List is mutable datastructure.\n",
        "\n",
        "3.List can contain heterogenous data.\n",
        "\n",
        "4.It can be accessed by indexing and negative indexing also.\n",
        "\n",
        "\n",
        "\n"
      ],
      "metadata": {
        "id": "IBktxrfwZWQo"
      }
    },
    {
      "cell_type": "markdown",
      "source": [
        "## **Q. Describe how to access, modify and delete elements in a list with examples.**"
      ],
      "metadata": {
        "id": "v7_JwWDQbCRX"
      }
    },
    {
      "cell_type": "code",
      "source": [
        "list = [1, 2, 3, 4, 5, 8, 0]\n",
        "print(list[0])  #access\n",
        "print(list[5])   #access\n",
        "list.append(45)  #modify-adds an element to the end of the list.\n",
        "print(list)\n",
        "list.insert(1, 25)  #modify-inserts an item at a specific index.\n",
        "print(list)\n",
        "list1 = [30, 40]    #modify-adds all elements from an iterable to the end of the list.\n",
        "list.extend(list1)\n",
        "print(list)\n",
        "list.pop(1)     #delete-removes and returns the item at the specified index\n",
        "print(list)"
      ],
      "metadata": {
        "colab": {
          "base_uri": "https://localhost:8080/"
        },
        "id": "zGeJ3AP6Zctb",
        "outputId": "d3745df8-9964-4e70-bfd8-cc3ddc8c69a9"
      },
      "execution_count": 18,
      "outputs": [
        {
          "output_type": "stream",
          "name": "stdout",
          "text": [
            "1\n",
            "8\n",
            "[1, 2, 3, 4, 5, 8, 0, 45]\n",
            "[1, 25, 2, 3, 4, 5, 8, 0, 45]\n",
            "[1, 25, 2, 3, 4, 5, 8, 0, 45, 30, 40]\n",
            "[1, 2, 3, 4, 5, 8, 0, 45, 30, 40]\n"
          ]
        }
      ]
    },
    {
      "cell_type": "markdown",
      "source": [
        "## **Q. Compare and contrast tuples and lists with examples**"
      ],
      "metadata": {
        "id": "Dadxosc6AiYM"
      }
    },
    {
      "cell_type": "code",
      "source": [
        "'''\n",
        "Tuples: Immutable\n",
        "Once a tuple is created, its contents cannot be modified.\n",
        "'''\n",
        "tuple = (1, 2, 3,34,12)\n",
        "tuple[1] = 4"
      ],
      "metadata": {
        "colab": {
          "base_uri": "https://localhost:8080/",
          "height": 176
        },
        "id": "EP4ev5p0Ahqy",
        "outputId": "1e2fc9d7-17d4-4435-e481-7416faf79d40"
      },
      "execution_count": 24,
      "outputs": [
        {
          "output_type": "error",
          "ename": "TypeError",
          "evalue": "'tuple' object does not support item assignment",
          "traceback": [
            "\u001b[0;31m---------------------------------------------------------------------------\u001b[0m",
            "\u001b[0;31mTypeError\u001b[0m                                 Traceback (most recent call last)",
            "\u001b[0;32m<ipython-input-24-a636cc75672d>\u001b[0m in \u001b[0;36m<cell line: 6>\u001b[0;34m()\u001b[0m\n\u001b[1;32m      4\u001b[0m '''\n\u001b[1;32m      5\u001b[0m \u001b[0mtuple\u001b[0m \u001b[0;34m=\u001b[0m \u001b[0;34m(\u001b[0m\u001b[0;36m1\u001b[0m\u001b[0;34m,\u001b[0m \u001b[0;36m2\u001b[0m\u001b[0;34m,\u001b[0m \u001b[0;36m3\u001b[0m\u001b[0;34m,\u001b[0m\u001b[0;36m34\u001b[0m\u001b[0;34m,\u001b[0m\u001b[0;36m12\u001b[0m\u001b[0;34m)\u001b[0m\u001b[0;34m\u001b[0m\u001b[0;34m\u001b[0m\u001b[0m\n\u001b[0;32m----> 6\u001b[0;31m \u001b[0mtuple\u001b[0m\u001b[0;34m[\u001b[0m\u001b[0;36m1\u001b[0m\u001b[0;34m]\u001b[0m \u001b[0;34m=\u001b[0m \u001b[0;36m4\u001b[0m\u001b[0;34m\u001b[0m\u001b[0;34m\u001b[0m\u001b[0m\n\u001b[0m",
            "\u001b[0;31mTypeError\u001b[0m: 'tuple' object does not support item assignment"
          ]
        }
      ]
    },
    {
      "cell_type": "code",
      "source": [
        "'''\n",
        "Lists: Mutable\n",
        "Lists can be modified after creation.\n",
        "'''\n",
        "my_list = [1, 2, 3, 12, 23]\n",
        "my_list[1] = 4\n",
        "print(my_list)"
      ],
      "metadata": {
        "colab": {
          "base_uri": "https://localhost:8080/"
        },
        "id": "WYUtP13p_ycg",
        "outputId": "394f68e9-a76a-4ea9-bf1e-8cca915d5de4"
      },
      "execution_count": 25,
      "outputs": [
        {
          "output_type": "stream",
          "name": "stdout",
          "text": [
            "[1, 4, 3, 12, 23]\n"
          ]
        }
      ]
    },
    {
      "cell_type": "code",
      "source": [
        "'''\n",
        "Tuples: Have fewer built-in methods due to their immutability.\n",
        "'''\n",
        "my_tuple = (1, 20, 3, 40)\n",
        "print(my_tuple.index(3))"
      ],
      "metadata": {
        "colab": {
          "base_uri": "https://localhost:8080/"
        },
        "id": "29k3LARJBjcy",
        "outputId": "5f8c9879-8b60-4e8c-dce8-2e456cc847dd"
      },
      "execution_count": 30,
      "outputs": [
        {
          "output_type": "stream",
          "name": "stdout",
          "text": [
            "2\n"
          ]
        }
      ]
    },
    {
      "cell_type": "code",
      "source": [
        "'''\n",
        "Lists: Have many built-in methods for modification, such as append(), remove(), and extend().\n",
        "'''\n",
        "my_list = [1, 2, 3]\n",
        "my_list.append(45)\n",
        "my_list.remove(2)\n",
        "print(my_list)"
      ],
      "metadata": {
        "colab": {
          "base_uri": "https://localhost:8080/"
        },
        "id": "V656SMzcB3Xx",
        "outputId": "cd458605-e772-409c-feb9-5f190fb050b6"
      },
      "execution_count": 31,
      "outputs": [
        {
          "output_type": "stream",
          "name": "stdout",
          "text": [
            "[1, 3, 45]\n"
          ]
        }
      ]
    },
    {
      "cell_type": "markdown",
      "source": [
        "## **Q.Describe the key features of sets and provide examples of their use.**\n",
        "\n",
        "1.Sets are unordered.\n",
        "\n",
        "2.Collection of unique elements.\n",
        "\n",
        "3.It is mutuable.\n",
        "\n",
        "4.Operations like union, intersection and difference can be performed."
      ],
      "metadata": {
        "id": "4N7nzCczOXJm"
      }
    },
    {
      "cell_type": "code",
      "source": [
        "set = {12, 45, 56, 78}\n",
        "print(set)\n",
        "set.add(23) #adding elements\n",
        "print(set)\n",
        "set.remove(12)  #removing elements\n",
        "print(set)\n",
        "set1 = {111, 222, 333}\n",
        "set2 = {333, 444, 555}\n",
        "print(set1|set2)  #union\n",
        "print(set1 & set2)  #intersection\n",
        "print(set1 - set2)    #difference"
      ],
      "metadata": {
        "colab": {
          "base_uri": "https://localhost:8080/"
        },
        "id": "wj9a9j-ZB_ZD",
        "outputId": "caad54a9-6f90-444f-e99a-6e86e34bb0c5"
      },
      "execution_count": 43,
      "outputs": [
        {
          "output_type": "stream",
          "name": "stdout",
          "text": [
            "{56, 12, 45, 78}\n",
            "{12, 45, 78, 23, 56}\n",
            "{45, 78, 23, 56}\n",
            "{555, 444, 333, 222, 111}\n",
            "{333}\n",
            "{222, 111}\n"
          ]
        }
      ]
    },
    {
      "cell_type": "markdown",
      "source": [
        "## **Q. Discuss the use cases of tuples and sets in Python programming.**\n"
      ],
      "metadata": {
        "id": "8-fLzF6xRfTy"
      }
    },
    {
      "cell_type": "code",
      "source": [
        "'''\n",
        "Use tuples to store fixed collections of items where the data should not change.\n",
        "'''\n",
        "point = (11, 23)\n",
        "print(point)"
      ],
      "metadata": {
        "colab": {
          "base_uri": "https://localhost:8080/"
        },
        "id": "KcqPXp4lPbhY",
        "outputId": "ed5f5625-3a21-421e-b8cc-128e94c340d0"
      },
      "execution_count": 45,
      "outputs": [
        {
          "output_type": "stream",
          "name": "stdout",
          "text": [
            "(11, 23)\n"
          ]
        }
      ]
    },
    {
      "cell_type": "code",
      "source": [
        "'''\n",
        "Tuples can be used to ensure the data remains unchanged.\n",
        "'''\n",
        "days_of_week = (\"Monday\", \"Tuesday\", \"Wednesday\", \"Thursday\", \"Friday\", \"Saturday\", \"Sunday\")\n",
        "print(days_of_week)"
      ],
      "metadata": {
        "colab": {
          "base_uri": "https://localhost:8080/"
        },
        "id": "g5-feRAlSlN5",
        "outputId": "3c2c052c-81d6-4b84-b1bf-0fdd5011164f"
      },
      "execution_count": 46,
      "outputs": [
        {
          "output_type": "stream",
          "name": "stdout",
          "text": [
            "('Monday', 'Tuesday', 'Wednesday', 'Thursday', 'Friday', 'Saturday', 'Sunday')\n"
          ]
        }
      ]
    },
    {
      "cell_type": "code",
      "source": [
        "'''\n",
        "operations like union, intersection, difference, and symmetric difference can be performed on sets.\n",
        "'''\n",
        "set1 = {10, 20, 30}\n",
        "set2 = {30, 40, 50}\n",
        "print(set1 | set2)\n",
        "print(set1 & set2)\n",
        "print(set1 - set2)\n",
        "print(set1 ^ set2)"
      ],
      "metadata": {
        "colab": {
          "base_uri": "https://localhost:8080/"
        },
        "id": "59OUqqnFTE_E",
        "outputId": "f9511df6-13b4-4ce9-bd94-12d645997f90"
      },
      "execution_count": 47,
      "outputs": [
        {
          "output_type": "stream",
          "name": "stdout",
          "text": [
            "{50, 20, 40, 10, 30}\n",
            "{30}\n",
            "{10, 20}\n",
            "{40, 10, 50, 20}\n"
          ]
        }
      ]
    },
    {
      "cell_type": "markdown",
      "source": [
        "## **Q. Describe how to add, modify and delete items on a dictionary with examples.**"
      ],
      "metadata": {
        "id": "8YAHiaysUK1s"
      }
    },
    {
      "cell_type": "code",
      "source": [
        "#To add a new key-value pair to a dictionary\n",
        "my_dict = {'ajay': 1, 'bijay': 2}\n",
        "my_dict['chirutha'] = 3\n",
        "print(my_dict)\n",
        "#To modify an existing item\n",
        "my_dict['ajay'] = 10\n",
        "print(my_dict)\n",
        "#To delete an item\n",
        "del my_dict['bijay']\n",
        "print(my_dict)"
      ],
      "metadata": {
        "colab": {
          "base_uri": "https://localhost:8080/"
        },
        "id": "xMpwdHfqTm9-",
        "outputId": "19cb9ec5-007b-4836-9a24-8c7d08b72634"
      },
      "execution_count": 51,
      "outputs": [
        {
          "output_type": "stream",
          "name": "stdout",
          "text": [
            "{'ajay': 1, 'bijay': 2, 'chirutha': 3}\n",
            "{'ajay': 10, 'bijay': 2, 'chirutha': 3}\n",
            "{'ajay': 10, 'chirutha': 3}\n"
          ]
        }
      ]
    },
    {
      "cell_type": "markdown",
      "source": [
        "## **Q. Discuss the importance on dictionary keys being immutable and provide examples.**"
      ],
      "metadata": {
        "id": "ubWd_Cw-VSN4"
      }
    },
    {
      "cell_type": "markdown",
      "source": [
        "Why Immutable Keys?\n",
        "\n",
        "Dictionary keys are used to identify and access values in a dictionary. If keys were mutable, it would lead to unpredictable behavior and potential errors. Here are some reasons why immutable keys are crucial:\n",
        "\n",
        "Hashing: Dictionaries use a hash table to store key-value pairs. Hashing relies on the key's hash value, which is calculated based on the key's content. If a key is mutable, its hash value could change, making it impossible to retrieve the associated value.\n",
        "Uniqueness: Immutable keys ensure that each key is unique, preventing duplicate keys and associated values.\n",
        "Thread Safety: In multi-threaded environments, immutable keys prevent concurrent modifications, ensuring that dictionary operations are thread-safe.\n",
        "Examples of Immutable Keys\n",
        "\n",
        "Here are some examples of immutable types that can be used as dictionary keys:\n",
        "\n",
        "Strings: Strings are immutable in Python, making them ideal dictionary keys.\n",
        "Integers: Integers are also immutable and can be used as keys.\n",
        "Tuples: Tuples are immutable collections of values and can be used as keys.\n",
        "Examples of Mutable Keys (and why they won't work)\n",
        "\n",
        "Here are some examples of mutable types that cannot be used as dictionary keys:\n",
        "\n",
        "Lists: Lists are mutable, and their contents can change, making them unsuitable as dictionary keys.\n",
        "Dictionaries: Dictionaries themselves are mutable, so they cannot be used as keys.\n",
        "Sets: Sets are mutable, and their contents can change, making them unsuitable as dictionary keys."
      ],
      "metadata": {
        "id": "jza6M84oXGBl"
      }
    },
    {
      "cell_type": "code",
      "source": [
        "# Create a dictionary with immutable keys (strings)\n",
        "my_dict = {\"apple\": 1, \"banana\": 2}\n",
        "\n",
        "# Try to use a mutable key (list)\n",
        "my_list = [1, 2, 3]\n",
        "try:\n",
        "    my_dict[my_list] = 3\n",
        "except TypeError:\n",
        "    print(\"Error: Mutable key cannot be used\")\n",
        "\n",
        "# Use a tuple as a key (immutable)\n",
        "my_tuple = (1, 2, 3)\n",
        "my_dict[my_tuple] = 4\n",
        "print(my_dict)  # Output: {'apple': 1, 'banana': 2, (1, 2, 3): 4}"
      ],
      "metadata": {
        "colab": {
          "base_uri": "https://localhost:8080/"
        },
        "id": "txZ1wAQ6VR6a",
        "outputId": "ca7b16fb-7a85-49ee-f2a8-afdab3fe1ab9"
      },
      "execution_count": 52,
      "outputs": [
        {
          "output_type": "stream",
          "name": "stdout",
          "text": [
            "Error: Mutable key cannot be used\n",
            "{'apple': 1, 'banana': 2, (1, 2, 3): 4}\n"
          ]
        }
      ]
    },
    {
      "cell_type": "code",
      "source": [],
      "metadata": {
        "id": "tEzh0FjLU4LY"
      },
      "execution_count": null,
      "outputs": []
    }
  ]
}